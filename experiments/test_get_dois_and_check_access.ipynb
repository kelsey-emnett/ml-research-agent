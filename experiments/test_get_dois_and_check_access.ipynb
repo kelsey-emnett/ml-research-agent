{
 "cells": [
  {
   "cell_type": "code",
   "execution_count": null,
   "id": "initial_id",
   "metadata": {
    "ExecuteTime": {
     "end_time": "2025-07-03T21:16:20.930549Z",
     "start_time": "2025-07-03T21:16:20.087526Z"
    },
    "collapsed": true
   },
   "outputs": [],
   "source": [
    "from dotenv import load_dotenv\n",
    "from app.v1.client.download_articles import ExtractResearchArticles\n",
    "from app.v1.schemas.download_articles import ArticleInput"
   ]
  },
  {
   "cell_type": "code",
   "execution_count": null,
   "id": "f1ac3d64512321f3",
   "metadata": {
    "ExecuteTime": {
     "end_time": "2025-07-03T21:16:21.130542Z",
     "start_time": "2025-07-03T21:16:21.111629Z"
    }
   },
   "outputs": [],
   "source": [
    "# Load environment variables\n",
    "load_dotenv()\n",
    "\n",
    "# Create an instance of ExtractResearchArticles\n",
    "extract_article_cls = ExtractResearchArticles()"
   ]
  },
  {
   "cell_type": "code",
   "execution_count": null,
   "id": "1f6461ac991748c2",
   "metadata": {
    "ExecuteTime": {
     "end_time": "2025-07-03T21:16:25.399252Z",
     "start_time": "2025-07-03T21:16:21.173417Z"
    }
   },
   "outputs": [],
   "source": [
    "article_input = ArticleInput(query=\"multi-agent workflows\", max_articles=5)\n",
    "\n",
    "article_list = await extract_article_cls.search_and_download_open_papers(article_input)\n",
    "\n",
    "# Print the first article to verify results\n",
    "if article_list and len(article_list) > 0:\n",
    "    print(f\"Found {len(article_list)} articles\")\n",
    "    print(\"\\nFirst article:\")\n",
    "    print(f\"Title: {article_list[0]['title']}\")\n",
    "    print(f\"DOI: {article_list[0]['doi']}\")\n",
    "\n",
    "    print(f\"Title: {article_list[1]['title']}\")\n",
    "    print(f\"DOI: {article_list[1]['doi']}\")\n",
    "else:\n",
    "    print(\"No articles found or an error occurred\")"
   ]
  }
 ],
 "metadata": {
  "kernelspec": {
   "display_name": "Python 3",
   "language": "python",
   "name": "python3"
  },
  "language_info": {
   "codemirror_mode": {
    "name": "ipython",
    "version": 2
   },
   "file_extension": ".py",
   "mimetype": "text/x-python",
   "name": "python",
   "nbconvert_exporter": "python",
   "pygments_lexer": "ipython2",
   "version": "2.7.6"
  }
 },
 "nbformat": 4,
 "nbformat_minor": 5
}

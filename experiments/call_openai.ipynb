{
 "cells": [
  {
   "cell_type": "code",
   "execution_count": null,
   "id": "initial_id",
   "metadata": {
    "ExecuteTime": {
     "end_time": "2025-06-24T01:10:21.802257Z",
     "start_time": "2025-06-24T01:10:20.612183Z"
    },
    "collapsed": true
   },
   "outputs": [],
   "source": [
    "from openai import AzureOpenAI\n",
    "import os\n",
    "from dotenv import load_dotenv\n",
    "import yaml"
   ]
  },
  {
   "cell_type": "code",
   "execution_count": null,
   "id": "5f717ca0248cde1e",
   "metadata": {
    "ExecuteTime": {
     "end_time": "2025-06-24T01:10:22.479938Z",
     "start_time": "2025-06-24T01:10:22.462703Z"
    }
   },
   "outputs": [],
   "source": [
    "load_dotenv()\n",
    "\n",
    "api_key = os.getenv(\"AZURE_OPENAI_API_KEY\")\n",
    "endpoint = os.getenv(\"AZURE_OPENAI_ENDPOINT\")\n",
    "api_version = os.getenv(\"AZURE_OPENAI_VERSION\")\n",
    "base_path = os.getenv(\"BASE_PATH\")"
   ]
  },
  {
   "cell_type": "code",
   "execution_count": null,
   "id": "4db1982ca0a96576",
   "metadata": {
    "ExecuteTime": {
     "end_time": "2025-06-24T01:10:22.572886Z",
     "start_time": "2025-06-24T01:10:22.552530Z"
    }
   },
   "outputs": [],
   "source": [
    "with open(f\"{base_path}/config.yaml\", \"r\") as file:\n",
    "    config = yaml.safe_load(file)\n",
    "\n",
    "model_name = config[\"openai\"][\"model_name\"]\n",
    "max_tokens = config[\"openai\"][\"max_tokens\"]\n",
    "temperature = config[\"openai\"][\"temperature\"]"
   ]
  },
  {
   "cell_type": "code",
   "execution_count": null,
   "id": "c742222e59b7218e",
   "metadata": {},
   "outputs": [],
   "source": [
    "client = AzureOpenAI(\n",
    "    api_version=api_version,\n",
    "    azure_endpoint=endpoint,\n",
    "    api_key=api_key,\n",
    ")\n",
    "\n",
    "model_input = [\n",
    "    {\n",
    "        \"role\": \"system\",\n",
    "        \"content\": \"You are a helpful assistant.\",\n",
    "    },\n",
    "    {\n",
    "        \"role\": \"user\",\n",
    "        \"content\": \"I am going to Paris, what should I see?\",\n",
    "    },\n",
    "]\n",
    "\n",
    "response = client.chat.completions.create(\n",
    "    messages=model_input,\n",
    "    max_completion_tokens=max_tokens,\n",
    "    temperature=temperature,\n",
    "    model=model_name,\n",
    ")\n",
    "\n",
    "print(response.choices[0].message.content)"
   ]
  },
  {
   "cell_type": "code",
   "execution_count": null,
   "id": "e762f78ff5fda797",
   "metadata": {},
   "outputs": [],
   "source": [
    "from app.v1.client.openai_chat import OpenAIChat\n",
    "\n",
    "chat_cls = OpenAIChat()\n",
    "chat_response = chat_cls.chat(\"You are a helpful assistant.\", \"How are you?\")"
   ]
  },
  {
   "cell_type": "code",
   "execution_count": null,
   "id": "80fe18d4a7173e59",
   "metadata": {},
   "outputs": [],
   "source": [
    "chat_response"
   ]
  }
 ],
 "metadata": {
  "kernelspec": {
   "display_name": "Python 3",
   "language": "python",
   "name": "python3"
  },
  "language_info": {
   "codemirror_mode": {
    "name": "ipython",
    "version": 2
   },
   "file_extension": ".py",
   "mimetype": "text/x-python",
   "name": "python",
   "nbconvert_exporter": "python",
   "pygments_lexer": "ipython2",
   "version": "2.7.6"
  }
 },
 "nbformat": 4,
 "nbformat_minor": 5
}
